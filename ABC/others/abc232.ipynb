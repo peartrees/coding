{
 "cells": [
  {
   "cell_type": "code",
   "execution_count": 3,
   "metadata": {},
   "outputs": [
    {
     "name": "stdin",
     "output_type": "stream",
     "text": [
      " 9x9\n"
     ]
    }
   ],
   "source": [
    "s = input()\n",
    "print(int(s[0])*int(s[2]))"
   ]
  },
  {
   "cell_type": "code",
   "execution_count": 7,
   "metadata": {},
   "outputs": [
    {
     "name": "stdin",
     "output_type": "stream",
     "text": [
      " abc\n",
      " ijk\n"
     ]
    }
   ],
   "source": [
    "s = list(input().split())\n",
    "t = list(input().split())"
   ]
  },
  {
   "cell_type": "code",
   "execution_count": 19,
   "metadata": {},
   "outputs": [
    {
     "data": {
      "text/plain": [
       "['i', 'j', 'k']"
      ]
     },
     "execution_count": 19,
     "metadata": {},
     "output_type": "execute_result"
    }
   ],
   "source": [
    "t"
   ]
  },
  {
   "cell_type": "code",
   "execution_count": 29,
   "metadata": {},
   "outputs": [
    {
     "name": "stdin",
     "output_type": "stream",
     "text": [
      " atcoder\n",
      " atcoder\n"
     ]
    },
    {
     "name": "stdout",
     "output_type": "stream",
     "text": [
      "Yes\n"
     ]
    }
   ],
   "source": [
    "s = input()\n",
    "t = input()\n",
    "for i in range(26):\n",
    "    answer = ''\n",
    "    for letter in list(s):\n",
    "        answer += chr(ord('a') + (ord(letter)-ord('a')+i) % 26)\n",
    "#         print(answer)\n",
    "    if answer == t:\n",
    "        print(\"Yes\")\n",
    "        break\n",
    "    if i == 25:\n",
    "        print(\"No\")\n",
    "        \n",
    "        \n",
    "       "
   ]
  },
  {
   "cell_type": "code",
   "execution_count": 102,
   "metadata": {},
   "outputs": [
    {
     "name": "stdin",
     "output_type": "stream",
     "text": [
      " 1 1\n",
      " 1 1\n",
      " 1 1\n"
     ]
    },
    {
     "name": "stdout",
     "output_type": "stream",
     "text": [
      "Yes\n"
     ]
    }
   ],
   "source": [
    "ls1 = []\n",
    "ls2 = []\n",
    "n, m = map(int, input().split())\n",
    "for _ in range(m):\n",
    "    ls1.append(input().split())\n",
    "for _ in range(m):\n",
    "    ls2.append(input().split())\n",
    "    \n",
    "cnt1 = {}\n",
    "cnt2 = {}\n",
    "\n",
    "for d1 in ls1:\n",
    "    for d2 in d1:\n",
    "        cnt1[d2] = cnt1.get(d2, 0) + 1\n",
    "        \n",
    "for d1 in ls2:\n",
    "    for d2 in d1:\n",
    "        cnt2[d2] = cnt2.get(d2, 0) + 1\n",
    "\n",
    "if sorted(list(cnt1.values())) == sorted(list(cnt2.values())):\n",
    "    print(\"Yes\")\n",
    "    \n",
    "else:\n",
    "    print(\"No\")"
   ]
  },
  {
   "cell_type": "code",
   "execution_count": null,
   "metadata": {},
   "outputs": [],
   "source": []
  }
 ],
 "metadata": {
  "kernelspec": {
   "display_name": "Python 3",
   "language": "python",
   "name": "python3"
  },
  "language_info": {
   "codemirror_mode": {
    "name": "ipython",
    "version": 3
   },
   "file_extension": ".py",
   "mimetype": "text/x-python",
   "name": "python",
   "nbconvert_exporter": "python",
   "pygments_lexer": "ipython3",
   "version": "3.8.5"
  }
 },
 "nbformat": 4,
 "nbformat_minor": 4
}
