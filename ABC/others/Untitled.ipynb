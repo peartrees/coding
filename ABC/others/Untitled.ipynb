{
 "cells": [
  {
   "cell_type": "code",
   "execution_count": 1,
   "metadata": {},
   "outputs": [
    {
     "name": "stdin",
     "output_type": "stream",
     "text": [
      " 3141\n"
     ]
    },
    {
     "name": "stdout",
     "output_type": "stream",
     "text": [
      "31.41\n"
     ]
    }
   ],
   "source": [
    "D = int(input())\n",
    "print(D/100)"
   ]
  },
  {
   "cell_type": "code",
   "execution_count": 23,
   "metadata": {},
   "outputs": [
    {
     "name": "stdin",
     "output_type": "stream",
     "text": [
      " 5\n",
      " a\n",
      " a\n",
      " b\n",
      " a\n",
      " c\n"
     ]
    },
    {
     "name": "stdout",
     "output_type": "stream",
     "text": [
      "('a', 3)\n"
     ]
    }
   ],
   "source": [
    "import collections\n",
    "\n",
    "N = int(input())\n",
    "ls = []\n",
    "for i in range(N):\n",
    "    ls.append(input())\n",
    "    \n",
    "c = collections.Counter(ls)\n",
    "print(c.most_common()[0][0])"
   ]
  },
  {
   "cell_type": "code",
   "execution_count": 24,
   "metadata": {},
   "outputs": [
    {
     "name": "stdout",
     "output_type": "stream",
     "text": [
      "a\n"
     ]
    }
   ],
   "source": [
    "print(c.most_common()[0][0])"
   ]
  },
  {
   "cell_type": "code",
   "execution_count": 73,
   "metadata": {},
   "outputs": [
    {
     "name": "stdin",
     "output_type": "stream",
     "text": [
      " 5 5\n",
      " 1 2 3 4 5\n",
      " 6\n",
      " 5\n",
      " 4\n",
      " 3\n",
      " 2\n"
     ]
    },
    {
     "name": "stdout",
     "output_type": "stream",
     "text": [
      "0\n",
      "1\n",
      "2\n",
      "3\n",
      "4\n"
     ]
    }
   ],
   "source": [
    "N, Q = map(int, input().split())\n",
    "A_ls = list(map(int, input().split()))\n",
    "x_ls = [int(input()) for _ in range(Q)]\n",
    "for i in range(Q):\n",
    "    cnt = 0\n",
    "    x = int(x_ls[i])\n",
    "    for data in A_ls:\n",
    "        if x <= int(data):\n",
    "            cnt += 1\n",
    "    print(cnt)"
   ]
  },
  {
   "cell_type": "code",
   "execution_count": 69,
   "metadata": {},
   "outputs": [
    {
     "name": "stdin",
     "output_type": "stream",
     "text": [
      " 4 2\n",
      " 1 3\n",
      " 2 3\n"
     ]
    }
   ],
   "source": [
    "N, M = map(int, input().split())\n",
    "const = []\n",
    "for i in range(M):\n",
    "    const.append(input().split())\n",
    "\n",
    "for d in const:\n",
    "    d1, d2 = d[0], d[1]    "
   ]
  },
  {
   "cell_type": "code",
   "execution_count": 70,
   "metadata": {},
   "outputs": [
    {
     "name": "stdout",
     "output_type": "stream",
     "text": [
      "[['1', '3'], ['2', '3']]\n"
     ]
    }
   ],
   "source": [
    "print(const)"
   ]
  },
  {
   "cell_type": "code",
   "execution_count": null,
   "metadata": {},
   "outputs": [],
   "source": []
  }
 ],
 "metadata": {
  "kernelspec": {
   "display_name": "Python 3",
   "language": "python",
   "name": "python3"
  },
  "language_info": {
   "codemirror_mode": {
    "name": "ipython",
    "version": 3
   },
   "file_extension": ".py",
   "mimetype": "text/x-python",
   "name": "python",
   "nbconvert_exporter": "python",
   "pygments_lexer": "ipython3",
   "version": "3.8.5"
  }
 },
 "nbformat": 4,
 "nbformat_minor": 4
}
