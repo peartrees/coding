{
 "cells": [
  {
   "cell_type": "code",
   "execution_count": 63,
   "metadata": {},
   "outputs": [
    {
     "name": "stdout",
     "output_type": "stream",
     "text": [
      "1 3 4\n",
      "1 2 4\n",
      "300000000 300000000 300000000\n"
     ]
    }
   ],
   "source": [
    "t = int(input())\n",
    "seq = []\n",
    "for _ in range(t):\n",
    "    seq.append(list(map(int, input().split())))\n",
    "for i in range(len(seq)):\n",
    "    ans = [0, 0, 0]\n",
    "    tmp = seq[i]\n",
    "    min_num = tmp[0]\n",
    "    max_num = tmp[-1]\n",
    "    ans[0] = int(min_num)\n",
    "    ans[1] = tmp[1]\n",
    "    ans[2] = max_num - tmp[1] - tmp[0]\n",
    "    print(ans[0], ans[1], ans[2])"
   ]
  },
  {
   "cell_type": "code",
   "execution_count": 64,
   "metadata": {},
   "outputs": [
    {
     "name": "stdin",
     "output_type": "stream",
     "text": [
      " 4\n",
      " 7\n",
      " ab bb ba aa ba\n",
      " 7\n",
      " ab ba aa ab ba\n",
      " 3\n",
      " aa\n",
      " 5\n",
      " bb ab bb\n"
     ]
    }
   ],
   "source": [
    "t = int(input())\n",
    "str_num = []\n",
    "str_ls = []\n",
    "for _ in range(t):\n",
    "    str_num.append(int(input()))\n",
    "    str_ls.append(list(input().split()))"
   ]
  },
  {
   "cell_type": "code",
   "execution_count": 73,
   "metadata": {},
   "outputs": [
    {
     "name": "stdout",
     "output_type": "stream",
     "text": [
      "0\n",
      "1\n",
      "2\n",
      "3\n",
      "4\n",
      "xxxxxxx\n",
      "0\n",
      "1\n",
      "2\n",
      "3\n",
      "4\n",
      "xxxxxxx\n",
      "0\n",
      "xxx\n"
     ]
    }
   ],
   "source": [
    "for i in range(t):\n",
    "    ans = 'x'*str_num[i]\n",
    "    tmp = str_ls[i]\n",
    "    for j in range(len(tmp)):\n",
    "        print(j)\n",
    "    print(ans)"
   ]
  },
  {
   "cell_type": "code",
   "execution_count": 72,
   "metadata": {},
   "outputs": [
    {
     "data": {
      "text/plain": [
       "[['ab', 'bb', 'ba', 'aa', 'ba'],\n",
       " ['ab', 'ba', 'aa', 'ab', 'ba'],\n",
       " ['aa'],\n",
       " ['bb', 'ab', 'bb']]"
      ]
     },
     "execution_count": 72,
     "metadata": {},
     "output_type": "execute_result"
    }
   ],
   "source": [
    "str_ls"
   ]
  },
  {
   "cell_type": "code",
   "execution_count": null,
   "metadata": {},
   "outputs": [],
   "source": []
  }
 ],
 "metadata": {
  "kernelspec": {
   "display_name": "Python 3",
   "language": "python",
   "name": "python3"
  },
  "language_info": {
   "codemirror_mode": {
    "name": "ipython",
    "version": 3
   },
   "file_extension": ".py",
   "mimetype": "text/x-python",
   "name": "python",
   "nbconvert_exporter": "python",
   "pygments_lexer": "ipython3",
   "version": "3.8.5"
  }
 },
 "nbformat": 4,
 "nbformat_minor": 4
}
