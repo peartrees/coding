{
 "cells": [
  {
   "cell_type": "markdown",
   "metadata": {},
   "source": [
    "## １行１列データ"
   ]
  },
  {
   "cell_type": "code",
   "execution_count": 2,
   "metadata": {},
   "outputs": [
    {
     "name": "stdin",
     "output_type": "stream",
     "text": [
      " 2\n",
      " 2\n",
      " 2\n"
     ]
    }
   ],
   "source": [
    "#str型で受け取るとき\n",
    "s = input() \n",
    "#int型で受け取るとき\n",
    "s = int(input()) \n",
    "#float型　(小数)で受け取るとき\n",
    "s = float(input())"
   ]
  },
  {
   "cell_type": "markdown",
   "metadata": {},
   "source": [
    "## (1,N)行列データ"
   ]
  },
  {
   "cell_type": "code",
   "execution_count": null,
   "metadata": {},
   "outputs": [],
   "source": [
    "#list型で受け取るとき\n",
    "s = input().split()\n",
    "\n",
    "#出力\n",
    ">>>print(s)\n",
    "['Alice', 'Bob', 'Charlie']\n",
    ">>>print(s[0])\n",
    "Alice\n",
    ">>>print(s[0][0])\n",
    "A"
   ]
  },
  {
   "cell_type": "markdown",
   "metadata": {},
   "source": [
    "## 入力変数が複数の整数の場合"
   ]
  },
  {
   "cell_type": "code",
   "execution_count": null,
   "metadata": {},
   "outputs": [],
   "source": [
    "A, B = map(int, input().split())\n",
    "\n",
    "#出力\n",
    ">>>print(A)\n",
    "1\n",
    ">>>print(A,B)\n",
    "1 3"
   ]
  },
  {
   "cell_type": "markdown",
   "metadata": {},
   "source": [
    "## 入力変数の数がN個の場合"
   ]
  },
  {
   "cell_type": "code",
   "execution_count": null,
   "metadata": {},
   "outputs": [],
   "source": [
    "#list型で取得\n",
    "l = list(map(int, input().split()))\n",
    "\n",
    "#出力\n",
    ">>>print(l)\n",
    "[1, 3, 4, 5, 6]"
   ]
  },
  {
   "cell_type": "markdown",
   "metadata": {},
   "source": [
    "## N*1データ"
   ]
  },
  {
   "cell_type": "code",
   "execution_count": 9,
   "metadata": {},
   "outputs": [
    {
     "ename": "SyntaxError",
     "evalue": "unexpected EOF while parsing (<ipython-input-9-81d6e4c55e77>, line 10)",
     "output_type": "error",
     "traceback": [
      "\u001b[0;36m  File \u001b[0;32m\"<ipython-input-9-81d6e4c55e77>\"\u001b[0;36m, line \u001b[0;32m10\u001b[0m\n\u001b[0;31m    # [2, 3, 3, 1]\u001b[0m\n\u001b[0m                  ^\u001b[0m\n\u001b[0;31mSyntaxError\u001b[0m\u001b[0;31m:\u001b[0m unexpected EOF while parsing\n"
     ]
    }
   ],
   "source": [
    "N, M = map(int, input().split())\n",
    "#空のリスト\n",
    "A = []\n",
    "#リストAにappend()を使って格納していく\n",
    "for _ in range(M):\n",
    "    A.append(int(input())\n",
    "\n",
    "#出力\n",
    "# >>>print(A)\n",
    "# [2, 3, 3, 1]"
   ]
  },
  {
   "cell_type": "code",
   "execution_count": null,
   "metadata": {},
   "outputs": [],
   "source": [
    "N, M = map(int, input().split())\n",
    "#リスト内包表記\n",
    "A = [int(input()) for _ in range(M)]\n",
    "\n",
    "#出力\n",
    ">>>print(A)\n",
    "[2, 3, 3, 1]"
   ]
  },
  {
   "cell_type": "markdown",
   "metadata": {},
   "source": [
    "## N*M行列データ"
   ]
  },
  {
   "cell_type": "code",
   "execution_count": null,
   "metadata": {},
   "outputs": [],
   "source": [
    "N = int(input())\n",
    "x = list(map(int, input().split()))\n",
    "y = list(map(int, input().split()))\n",
    "\n",
    "#出力\n",
    ">>>print(x)\n",
    "[1, 2, 3]"
   ]
  },
  {
   "cell_type": "markdown",
   "metadata": {},
   "source": [
    "## 列に変数が並ぶ時"
   ]
  },
  {
   "cell_type": "code",
   "execution_count": null,
   "metadata": {},
   "outputs": [],
   "source": [
    "N = int(input())\n",
    "xy = [map(int, input().split()) for _ in range(N)]\n",
    "x, y = [list(i) for i in zip(*xy)]\n",
    "\n",
    "#出力\n",
    ">>>print(x)\n",
    "[1, 3, 5, 7, 9]\n",
    ">>>print(x[1]+y[1])\n",
    "7"
   ]
  },
  {
   "cell_type": "code",
   "execution_count": null,
   "metadata": {},
   "outputs": [],
   "source": [
    "N = int(input())\n",
    "l = [list(map(int, input().split())) for l in range(N)]\n",
    "\n",
    "#出力\n",
    ">>>print(l)\n",
    "[[1, 2], [3, 4], [5, 6]]"
   ]
  },
  {
   "cell_type": "markdown",
   "metadata": {},
   "source": [
    "## 列に文字と数字が混合した場合"
   ]
  },
  {
   "cell_type": "code",
   "execution_count": null,
   "metadata": {},
   "outputs": [],
   "source": [
    "N = int(input())\n",
    "list = []\n",
    "for i in range(N):\n",
    "    a,b=input().split()\n",
    "    list.append([int(a), b])\n",
    "\n",
    "#出力\n",
    ">>>print(list)\n",
    "[[1, 'a'], [3, 'b'], [5, 'c'], [7, 'd'], [9, 'e']]\n",
    ">>>print(type(list[0][0]))\n",
    "<class'int'>\n",
    ">>>print(type(list[0][1]))\n",
    "<class'str'>"
   ]
  },
  {
   "cell_type": "markdown",
   "metadata": {},
   "source": [
    "## ３変数データの時"
   ]
  },
  {
   "cell_type": "code",
   "execution_count": null,
   "metadata": {},
   "outputs": [],
   "source": [
    "#先に入力変数分の長さを持つlistを作っておく。※N = 5の場合,t = [0,0,0,0,0]\n",
    "N = int(input())\n",
    "t = [0] * N\n",
    "x = [0] * N\n",
    "y = [0] * N\n",
    "for i in range(N):\n",
    "    #上から順番に代入していく\n",
    "    t[i], x[i], y[i] = map(int, input().split())\n",
    "\n",
    "#出力\n",
    ">>>print(t)\n",
    "[3, 6]"
   ]
  },
  {
   "cell_type": "code",
   "execution_count": null,
   "metadata": {},
   "outputs": [],
   "source": []
  }
 ],
 "metadata": {
  "kernelspec": {
   "display_name": "Python 3",
   "language": "python",
   "name": "python3"
  },
  "language_info": {
   "codemirror_mode": {
    "name": "ipython",
    "version": 3
   },
   "file_extension": ".py",
   "mimetype": "text/x-python",
   "name": "python",
   "nbconvert_exporter": "python",
   "pygments_lexer": "ipython3",
   "version": "3.8.5"
  }
 },
 "nbformat": 4,
 "nbformat_minor": 4
}
